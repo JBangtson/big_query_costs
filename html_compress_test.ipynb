{
 "cells": [
  {
   "cell_type": "code",
   "execution_count": null,
   "metadata": {},
   "outputs": [],
   "source": [
    "import zlib\n",
    "\n",
    "# Original string (e.g., your HTML content)\n",
    "original_string = \"Your large HTML content goes here\"\n",
    "\n",
    "# Open a text file and read its content as a string\n",
    "with open('html_text.txt', 'r') as file:\n",
    "    original_string = file.read()\n",
    "\n",
    "# Compress the string\n",
    "compressed_string = zlib.compress(original_string.encode('utf-8'))\n",
    "\n",
    "# Decompress the string\n",
    "decompressed_string = zlib.decompress(compressed_string).decode('utf-8')\n",
    "\n",
    "print(f\"Original length: {len(original_string)}\")\n",
    "print(f\"Compressed length: {len(compressed_string)}\")\n",
    "print(f\"Percentage of Original Size: {round((len(compressed_string)/len(original_string))*100,2)}%\")\n",
    "print(f\"Decompressed string is equal to original: {original_string == decompressed_string}\")\n",
    "print(compressed_string)\n"
   ]
  },
  {
   "cell_type": "markdown",
   "metadata": {},
   "source": [
    "- Original length: 307365\n",
    "- Compressed length: 47571\n",
    "- Percentage of Original Size: 15.48%"
   ]
  },
  {
   "cell_type": "code",
   "execution_count": 3,
   "metadata": {},
   "outputs": [
    {
     "name": "stdout",
     "output_type": "stream",
     "text": [
      "Percentage change in size: -84.52%\n"
     ]
    }
   ],
   "source": [
    "def calculate_percentage_change(original, new):\n",
    "    if original == 0:\n",
    "        return float('inf')  # Avoid division by zero\n",
    "    return ((new - original) / original) * 100\n",
    "\n",
    "# Example usage of the percentage change function\n",
    "\n",
    "percentage_change = calculate_percentage_change(len(original_string),len(compressed_string) )\n",
    "\n",
    "print(f\"Percentage change in size: {round(percentage_change, 2)}%\")\n"
   ]
  }
 ],
 "metadata": {
  "kernelspec": {
   "display_name": "Python 3",
   "language": "python",
   "name": "python3"
  },
  "language_info": {
   "codemirror_mode": {
    "name": "ipython",
    "version": 3
   },
   "file_extension": ".py",
   "mimetype": "text/x-python",
   "name": "python",
   "nbconvert_exporter": "python",
   "pygments_lexer": "ipython3",
   "version": "3.12.6"
  }
 },
 "nbformat": 4,
 "nbformat_minor": 2
}
